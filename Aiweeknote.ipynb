{
 "cells": [
  {
   "cell_type": "markdown",
   "id": "484bc18c",
   "metadata": {},
   "source": [
    "# Day 1: FREE AI Class in Every City 2020"
   ]
  },
  {
   "cell_type": "code",
   "execution_count": 1,
   "id": "ed10bac3",
   "metadata": {},
   "outputs": [
    {
     "ename": "FileNotFoundError",
     "evalue": "[Errno 2] No such file or directory: ''",
     "output_type": "error",
     "traceback": [
      "\u001b[0;31m---------------------------------------------------------------------------\u001b[0m",
      "\u001b[0;31mFileNotFoundError\u001b[0m                         Traceback (most recent call last)",
      "\u001b[1;32m/home/adamsgeeky/Documents/DataScience/A_free_5_days_DSN/Aiweeknote.ipynb Cell 2'\u001b[0m in \u001b[0;36m<cell line: 9>\u001b[0;34m()\u001b[0m\n\u001b[1;32m      <a href='vscode-notebook-cell:/home/adamsgeeky/Documents/DataScience/A_free_5_days_DSN/Aiweeknote.ipynb#ch0000001?line=5'>6</a>\u001b[0m userInput \u001b[39m=\u001b[39m \u001b[39minput\u001b[39m(\u001b[39m'\u001b[39m\u001b[39m\\t\u001b[39;00m\u001b[39m \u001b[39m\u001b[39m\\t\u001b[39;00m\u001b[39m which file you went to open \u001b[39m\u001b[39m\\t\u001b[39;00m\u001b[39m\\n\u001b[39;00m\u001b[39m'\u001b[39m)\n\u001b[1;32m      <a href='vscode-notebook-cell:/home/adamsgeeky/Documents/DataScience/A_free_5_days_DSN/Aiweeknote.ipynb#ch0000001?line=7'>8</a>\u001b[0m ducoment \u001b[39m=\u001b[39m userInput\n\u001b[0;32m----> <a href='vscode-notebook-cell:/home/adamsgeeky/Documents/DataScience/A_free_5_days_DSN/Aiweeknote.ipynb#ch0000001?line=8'>9</a>\u001b[0m openFile(ducoment)\n",
      "\u001b[1;32m/home/adamsgeeky/Documents/DataScience/A_free_5_days_DSN/Aiweeknote.ipynb Cell 2'\u001b[0m in \u001b[0;36mopenFile\u001b[0;34m(fileNane)\u001b[0m\n\u001b[1;32m      <a href='vscode-notebook-cell:/home/adamsgeeky/Documents/DataScience/A_free_5_days_DSN/Aiweeknote.ipynb#ch0000001?line=1'>2</a>\u001b[0m \u001b[39mdef\u001b[39;00m \u001b[39mopenFile\u001b[39m(fileNane):\n\u001b[0;32m----> <a href='vscode-notebook-cell:/home/adamsgeeky/Documents/DataScience/A_free_5_days_DSN/Aiweeknote.ipynb#ch0000001?line=2'>3</a>\u001b[0m     \u001b[39mwith\u001b[39;00m \u001b[39mopen\u001b[39;49m(fileNane, \u001b[39m'\u001b[39;49m\u001b[39mr+\u001b[39;49m\u001b[39m'\u001b[39;49m) \u001b[39mas\u001b[39;00m duc:\n\u001b[1;32m      <a href='vscode-notebook-cell:/home/adamsgeeky/Documents/DataScience/A_free_5_days_DSN/Aiweeknote.ipynb#ch0000001?line=3'>4</a>\u001b[0m         \u001b[39mprint\u001b[39m(duc\u001b[39m.\u001b[39mread())\n",
      "\u001b[0;31mFileNotFoundError\u001b[0m: [Errno 2] No such file or directory: ''"
     ]
    }
   ],
   "source": [
    "#------- function to open file with contain in the root folder of the notebook\n",
    "def openFile(fileNane):\n",
    "    with open(fileNane, 'r+') as duc:\n",
    "        print(duc.read())\n",
    "# ---end\n",
    "userInput = input('\\t \\t which file you went to open \\t\\n')\n",
    "\n",
    "ducoment = userInput\n",
    "openFile(ducoment)"
   ]
  }
 ],
 "metadata": {
  "kernelspec": {
   "display_name": "Python 3.8.10 64-bit",
   "language": "python",
   "name": "python3"
  },
  "language_info": {
   "codemirror_mode": {
    "name": "ipython",
    "version": 3
   },
   "file_extension": ".py",
   "mimetype": "text/x-python",
   "name": "python",
   "nbconvert_exporter": "python",
   "pygments_lexer": "ipython3",
   "version": "3.8.10"
  },
  "vscode": {
   "interpreter": {
    "hash": "916dbcbb3f70747c44a77c7bcd40155683ae19c65e1c03b4aa3499c5328201f1"
   }
  }
 },
 "nbformat": 4,
 "nbformat_minor": 5
}
