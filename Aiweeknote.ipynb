{
 "cells": [
  {
   "cell_type": "markdown",
   "id": "484bc18c",
   "metadata": {},
   "source": [
    "# Day 1: FREE AI Class in Every City 2020"
   ]
  },
  {
   "cell_type": "code",
   "execution_count": null,
   "id": "ed10bac3",
   "metadata": {},
   "outputs": [],
   "source": [
    "#------- function to open file with contain in the root folder of the notebook\n",
    "def openFile(fileNane):\n",
    "    with open(fileNane, 'r+') as duc:\n",
    "        print(duc.read())\n",
    "# ---end\n",
    "userInput = input('\\t \\t which file you went to open \\t\\n')\n",
    "\n",
    "ducoment = userInput\n",
    "openFile(ducoment)"
   ]
  }
 ],
 "metadata": {
  "kernelspec": {
   "display_name": "Python 3 (ipykernel)",
   "language": "python",
   "name": "python3"
  },
  "language_info": {
   "codemirror_mode": {
    "name": "ipython",
    "version": 3
   },
   "file_extension": ".py",
   "mimetype": "text/x-python",
   "name": "python",
   "nbconvert_exporter": "python",
   "pygments_lexer": "ipython3",
   "version": "3.9.7"
  }
 },
 "nbformat": 4,
 "nbformat_minor": 5
}
