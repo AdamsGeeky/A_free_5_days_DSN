{
 "cells": [
  {
   "cell_type": "markdown",
   "id": "5cc8ab1d",
   "metadata": {},
   "source": [
    "# think globaly and act locally let explore the supplimentry list of Gsu 2020 list"
   ]
  },
  {
   "cell_type": "code",
   "execution_count": 1,
   "id": "799fc601",
   "metadata": {},
   "outputs": [],
   "source": [
    "# importing  pandas library for data frame \n",
    "import pandas as dframe"
   ]
  },
  {
   "cell_type": "code",
   "execution_count": 4,
   "id": "b2cc31d3",
   "metadata": {},
   "outputs": [],
   "source": [
    "data = dframe.read_csv('dataset/Admitted2020.csv')"
   ]
  },
  {
   "cell_type": "code",
   "execution_count": 5,
   "id": "e84d5931",
   "metadata": {},
   "outputs": [
    {
     "data": {
      "text/html": [
       "<div>\n",
       "<style scoped>\n",
       "    .dataframe tbody tr th:only-of-type {\n",
       "        vertical-align: middle;\n",
       "    }\n",
       "\n",
       "    .dataframe tbody tr th {\n",
       "        vertical-align: top;\n",
       "    }\n",
       "\n",
       "    .dataframe thead th {\n",
       "        text-align: right;\n",
       "    }\n",
       "</style>\n",
       "<table border=\"1\" class=\"dataframe\">\n",
       "  <thead>\n",
       "    <tr style=\"text-align: right;\">\n",
       "      <th></th>\n",
       "      <th>JAMB</th>\n",
       "      <th>NAME</th>\n",
       "      <th>SEX</th>\n",
       "      <th>CUS</th>\n",
       "    </tr>\n",
       "  </thead>\n",
       "  <tbody>\n",
       "    <tr>\n",
       "      <th>0</th>\n",
       "      <td>20029586CF</td>\n",
       "      <td>OBADIAH SAMUEL GANAH</td>\n",
       "      <td>M</td>\n",
       "      <td>ZO</td>\n",
       "    </tr>\n",
       "    <tr>\n",
       "      <th>1</th>\n",
       "      <td>20029586CF</td>\n",
       "      <td>OBADIAH SAMUEL GANAH</td>\n",
       "      <td>M</td>\n",
       "      <td>ZO</td>\n",
       "    </tr>\n",
       "    <tr>\n",
       "      <th>2</th>\n",
       "      <td>20029672HA</td>\n",
       "      <td>FARUK ABUBAKAR AJIYA</td>\n",
       "      <td>M</td>\n",
       "      <td>MC</td>\n",
       "    </tr>\n",
       "    <tr>\n",
       "      <th>3</th>\n",
       "      <td>20029672HA</td>\n",
       "      <td>FARUK ABUBAKAR AJIYA</td>\n",
       "      <td>M</td>\n",
       "      <td>MC</td>\n",
       "    </tr>\n",
       "    <tr>\n",
       "      <th>4</th>\n",
       "      <td>20047201BF</td>\n",
       "      <td>ISHAKU CAROLINE</td>\n",
       "      <td>F</td>\n",
       "      <td>BT</td>\n",
       "    </tr>\n",
       "  </tbody>\n",
       "</table>\n",
       "</div>"
      ],
      "text/plain": [
       "          JAMB                  NAME  SEX  CUS\n",
       "0  20029586CF   OBADIAH SAMUEL GANAH    M   ZO\n",
       "1  20029586CF   OBADIAH SAMUEL GANAH    M   ZO\n",
       "2  20029672HA   FARUK ABUBAKAR AJIYA    M   MC\n",
       "3  20029672HA   FARUK ABUBAKAR AJIYA    M   MC\n",
       "4  20047201BF        ISHAKU CAROLINE    F   BT"
      ]
     },
     "execution_count": 5,
     "metadata": {},
     "output_type": "execute_result"
    }
   ],
   "source": [
    "data.head()"
   ]
  },
  {
   "cell_type": "code",
   "execution_count": 7,
   "id": "bbfaa787",
   "metadata": {},
   "outputs": [
    {
     "data": {
      "text/html": [
       "<div>\n",
       "<style scoped>\n",
       "    .dataframe tbody tr th:only-of-type {\n",
       "        vertical-align: middle;\n",
       "    }\n",
       "\n",
       "    .dataframe tbody tr th {\n",
       "        vertical-align: top;\n",
       "    }\n",
       "\n",
       "    .dataframe thead th {\n",
       "        text-align: right;\n",
       "    }\n",
       "</style>\n",
       "<table border=\"1\" class=\"dataframe\">\n",
       "  <thead>\n",
       "    <tr style=\"text-align: right;\">\n",
       "      <th></th>\n",
       "      <th>JAMB</th>\n",
       "      <th>NAME</th>\n",
       "      <th>SEX</th>\n",
       "      <th>CUS</th>\n",
       "    </tr>\n",
       "  </thead>\n",
       "  <tbody>\n",
       "    <tr>\n",
       "      <th>count</th>\n",
       "      <td>2895</td>\n",
       "      <td>2895</td>\n",
       "      <td>2894</td>\n",
       "      <td>2894</td>\n",
       "    </tr>\n",
       "    <tr>\n",
       "      <th>unique</th>\n",
       "      <td>1448</td>\n",
       "      <td>1435</td>\n",
       "      <td>2</td>\n",
       "      <td>40</td>\n",
       "    </tr>\n",
       "    <tr>\n",
       "      <th>top</th>\n",
       "      <td>20822091EF</td>\n",
       "      <td>ABUBAKAR USMAN</td>\n",
       "      <td>M</td>\n",
       "      <td>BT</td>\n",
       "    </tr>\n",
       "    <tr>\n",
       "      <th>freq</th>\n",
       "      <td>6</td>\n",
       "      <td>8</td>\n",
       "      <td>1538</td>\n",
       "      <td>253</td>\n",
       "    </tr>\n",
       "  </tbody>\n",
       "</table>\n",
       "</div>"
      ],
      "text/plain": [
       "               JAMB            NAME   SEX    CUS\n",
       "count          2895             2895  2894  2894\n",
       "unique         1448             1435     2    40\n",
       "top     20822091EF   ABUBAKAR USMAN     M     BT\n",
       "freq              6                8  1538   253"
      ]
     },
     "execution_count": 7,
     "metadata": {},
     "output_type": "execute_result"
    }
   ],
   "source": [
    "data.describe()"
   ]
  },
  {
   "cell_type": "code",
   "execution_count": 8,
   "id": "2e624a33",
   "metadata": {},
   "outputs": [
    {
     "name": "stdout",
     "output_type": "stream",
     "text": [
      "<class 'pandas.core.frame.DataFrame'>\n",
      "RangeIndex: 2895 entries, 0 to 2894\n",
      "Data columns (total 4 columns):\n",
      " #   Column  Non-Null Count  Dtype \n",
      "---  ------  --------------  ----- \n",
      " 0   JAMB    2895 non-null   object\n",
      " 1   NAME    2895 non-null   object\n",
      " 2   SEX     2894 non-null   object\n",
      " 3   CUS     2894 non-null   object\n",
      "dtypes: object(4)\n",
      "memory usage: 90.6+ KB\n"
     ]
    }
   ],
   "source": [
    "data.info()"
   ]
  },
  {
   "cell_type": "code",
   "execution_count": 9,
   "id": "b6e52fa7",
   "metadata": {},
   "outputs": [
    {
     "data": {
      "text/plain": [
       "Index(['JAMB', 'NAME ', 'SEX ', 'CUS'], dtype='object')"
      ]
     },
     "execution_count": 9,
     "metadata": {},
     "output_type": "execute_result"
    }
   ],
   "source": [
    "data.columns"
   ]
  },
  {
   "cell_type": "code",
   "execution_count": 10,
   "id": "c64ff7df",
   "metadata": {},
   "outputs": [
    {
     "data": {
      "text/plain": [
       "(2895, 4)"
      ]
     },
     "execution_count": 10,
     "metadata": {},
     "output_type": "execute_result"
    }
   ],
   "source": [
    "data.shape"
   ]
  },
  {
   "cell_type": "code",
   "execution_count": 15,
   "id": "2b9071a3",
   "metadata": {},
   "outputs": [
    {
     "data": {
      "text/html": [
       "<div>\n",
       "<style scoped>\n",
       "    .dataframe tbody tr th:only-of-type {\n",
       "        vertical-align: middle;\n",
       "    }\n",
       "\n",
       "    .dataframe tbody tr th {\n",
       "        vertical-align: top;\n",
       "    }\n",
       "\n",
       "    .dataframe thead th {\n",
       "        text-align: right;\n",
       "    }\n",
       "</style>\n",
       "<table border=\"1\" class=\"dataframe\">\n",
       "  <thead>\n",
       "    <tr style=\"text-align: right;\">\n",
       "      <th></th>\n",
       "      <th>JAMB</th>\n",
       "      <th>NAME</th>\n",
       "      <th>SEX</th>\n",
       "      <th>CUS</th>\n",
       "    </tr>\n",
       "  </thead>\n",
       "  <tbody>\n",
       "    <tr>\n",
       "      <th>2890</th>\n",
       "      <td>22360431CA</td>\n",
       "      <td>ISHAKU DANIEL DIRE</td>\n",
       "      <td>M</td>\n",
       "      <td>BC</td>\n",
       "    </tr>\n",
       "    <tr>\n",
       "      <th>2891</th>\n",
       "      <td>22360602CA</td>\n",
       "      <td>SULAIMAN KHADIJAH ALIYU</td>\n",
       "      <td>M</td>\n",
       "      <td>BC</td>\n",
       "    </tr>\n",
       "    <tr>\n",
       "      <th>2892</th>\n",
       "      <td>22360602CA</td>\n",
       "      <td>SULAIMAN KHADIJAH ALIYU</td>\n",
       "      <td>F</td>\n",
       "      <td>BC</td>\n",
       "    </tr>\n",
       "    <tr>\n",
       "      <th>2893</th>\n",
       "      <td>22360767FA</td>\n",
       "      <td>HASSAN MAIKWADA</td>\n",
       "      <td>F</td>\n",
       "      <td>BC</td>\n",
       "    </tr>\n",
       "    <tr>\n",
       "      <th>2894</th>\n",
       "      <td>22360767FA</td>\n",
       "      <td>HASSAN MAIKWADA</td>\n",
       "      <td>M</td>\n",
       "      <td>PA</td>\n",
       "    </tr>\n",
       "  </tbody>\n",
       "</table>\n",
       "</div>"
      ],
      "text/plain": [
       "             JAMB                     NAME  SEX  CUS\n",
       "2890  22360431CA        ISHAKU DANIEL DIRE    M   BC\n",
       "2891  22360602CA   SULAIMAN KHADIJAH ALIYU    M   BC\n",
       "2892  22360602CA   SULAIMAN KHADIJAH ALIYU    F   BC\n",
       "2893  22360767FA           HASSAN MAIKWADA    F   BC\n",
       "2894  22360767FA           HASSAN MAIKWADA    M   PA"
      ]
     },
     "execution_count": 15,
     "metadata": {},
     "output_type": "execute_result"
    }
   ],
   "source": [
    "data.tail()"
   ]
  },
  {
   "cell_type": "code",
   "execution_count": 16,
   "id": "c9e0b19c",
   "metadata": {},
   "outputs": [
    {
     "data": {
      "text/plain": [
       "0       20029586CF \n",
       "1       20029586CF \n",
       "2       20029672HA \n",
       "3       20029672HA \n",
       "4       20047201BF \n",
       "           ...     \n",
       "2890    22360431CA \n",
       "2891    22360602CA \n",
       "2892    22360602CA \n",
       "2893    22360767FA \n",
       "2894    22360767FA \n",
       "Name: JAMB, Length: 2895, dtype: object"
      ]
     },
     "execution_count": 16,
     "metadata": {},
     "output_type": "execute_result"
    }
   ],
   "source": [
    "data['JAMB']"
   ]
  },
  {
   "cell_type": "code",
   "execution_count": 21,
   "id": "a714e7b2",
   "metadata": {},
   "outputs": [
    {
     "data": {
      "text/plain": [
       "0       ZO\n",
       "1       ZO\n",
       "2       MC\n",
       "3       MC\n",
       "4       BT\n",
       "        ..\n",
       "2890    BC\n",
       "2891    BC\n",
       "2892    BC\n",
       "2893    BC\n",
       "2894    PA\n",
       "Name: CUS, Length: 2895, dtype: object"
      ]
     },
     "execution_count": 21,
     "metadata": {},
     "output_type": "execute_result"
    }
   ],
   "source": [
    "data['CUS']"
   ]
  },
  {
   "cell_type": "code",
   "execution_count": null,
   "id": "4e251fac",
   "metadata": {},
   "outputs": [],
   "source": []
  }
 ],
 "metadata": {
  "kernelspec": {
   "display_name": "Python 3 (ipykernel)",
   "language": "python",
   "name": "python3"
  },
  "language_info": {
   "codemirror_mode": {
    "name": "ipython",
    "version": 3
   },
   "file_extension": ".py",
   "mimetype": "text/x-python",
   "name": "python",
   "nbconvert_exporter": "python",
   "pygments_lexer": "ipython3",
   "version": "3.9.7"
  }
 },
 "nbformat": 4,
 "nbformat_minor": 5
}
